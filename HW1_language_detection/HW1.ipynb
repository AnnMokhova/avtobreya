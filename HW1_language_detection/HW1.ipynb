{
 "cells": [
  {
   "cell_type": "markdown",
   "metadata": {},
   "source": [
    "# Определение языка и VK API"
   ]
  },
  {
   "cell_type": "markdown",
   "metadata": {},
   "source": [
    "В данном задании вам нужно будет:\n",
    "\n",
    "* используя API Вконтакте, скачать комментарии к первым ста постам из пяти сообществ\n",
    "* натренировать модель распознавания языков на статьях из Википедии.\n",
    "* распознать язык всех комментариев, где в тексте есть 10 и более символов, и построить статистику"
   ]
  },
  {
   "cell_type": "markdown",
   "metadata": {},
   "source": [
    "## VK API"
   ]
  },
  {
   "cell_type": "markdown",
   "metadata": {},
   "source": [
    "Для подключения к ВКонтакте мы будем использовать VK API. Здесь есть документация к этой библиотеке https://vk-api.readthedocs.io/en/latest/"
   ]
  },
  {
   "cell_type": "code",
   "execution_count": null,
   "metadata": {},
   "outputs": [],
   "source": [
    "#!pip(3) install vk_api"
   ]
  },
  {
   "cell_type": "code",
   "execution_count": 1,
   "metadata": {
    "scrolled": true
   },
   "outputs": [],
   "source": [
    "import vk_api\n",
    "\n",
    "# здесь нужно ввести данные своего аккаунта\n",
    "# когда будете сдавать, не забудьте убрать эти две строчки из ноутбука\n",
    "user = '' # вставьте сюда свой номер телефона\n",
    "password = '' # вставьте сюда свой пароль\n",
    "\n",
    "# авторизация\n",
    "vk_session = vk_api.VkApi(login=user, password=password)\n",
    "vk_session.auth()\n",
    "\n",
    "vk = vk_session.get_api() # объект с API"
   ]
  },
  {
   "cell_type": "markdown",
   "metadata": {},
   "source": [
    "Получить записи со страницы можно с помощью метода `wall.get`. Он принимает параметр `domain` — короткое имя пользователя или сообщества — и `count` — количество записей, которое вы хотите получить (максимум — 100). По Список методов для работы со стенами: https://vk.com/dev/wall"
   ]
  },
  {
   "cell_type": "markdown",
   "metadata": {},
   "source": [
    "Например, вот так можно получить последние две записи с вот этой страницы https://vk.com/futureisnow. Выдача представляет собой словарь, в котором в поле `items` записан список словарей, содержащий информацию о каждой из записи. "
   ]
  },
  {
   "cell_type": "code",
   "execution_count": 2,
   "metadata": {
    "scrolled": true
   },
   "outputs": [
    {
     "data": {
      "text/plain": [
       "{'count': 8202,\n",
       " 'items': [{'id': 250631,\n",
       "   'from_id': -111587102,\n",
       "   'owner_id': -111587102,\n",
       "   'date': 1569768300,\n",
       "   'marked_as_ads': 0,\n",
       "   'post_type': 'post',\n",
       "   'text': '',\n",
       "   'signer_id': 30399743,\n",
       "   'attachments': [{'type': 'photo',\n",
       "     'photo': {'id': 457288592,\n",
       "      'album_id': -7,\n",
       "      'owner_id': -111587102,\n",
       "      'user_id': 100,\n",
       "      'sizes': [{'type': 'm',\n",
       "        'url': 'https://sun1-94.userapi.com/c851424/v851424255/1c89d2/GBIpQNznCJ4.jpg',\n",
       "        'width': 92,\n",
       "        'height': 130},\n",
       "       {'type': 'o',\n",
       "        'url': 'https://sun1-89.userapi.com/c851424/v851424255/1c89d6/Vnon07fZ4js.jpg',\n",
       "        'width': 130,\n",
       "        'height': 184},\n",
       "       {'type': 'p',\n",
       "        'url': 'https://sun1-28.userapi.com/c851424/v851424255/1c89d7/AEnw_e4uNVU.jpg',\n",
       "        'width': 200,\n",
       "        'height': 283},\n",
       "       {'type': 'q',\n",
       "        'url': 'https://sun1-26.userapi.com/c851424/v851424255/1c89d8/JmBEfHlL-jc.jpg',\n",
       "        'width': 320,\n",
       "        'height': 453},\n",
       "       {'type': 'r',\n",
       "        'url': 'https://sun1-16.userapi.com/c851424/v851424255/1c89d9/OU1KgSYSozY.jpg',\n",
       "        'width': 510,\n",
       "        'height': 721},\n",
       "       {'type': 's',\n",
       "        'url': 'https://sun1-15.userapi.com/c851424/v851424255/1c89d1/2M5quhwyQJw.jpg',\n",
       "        'width': 53,\n",
       "        'height': 75},\n",
       "       {'type': 'x',\n",
       "        'url': 'https://sun1-14.userapi.com/c851424/v851424255/1c89d3/xTWQ8kxEcXQ.jpg',\n",
       "        'width': 427,\n",
       "        'height': 604},\n",
       "       {'type': 'y',\n",
       "        'url': 'https://sun1-94.userapi.com/c851424/v851424255/1c89d4/ieQ9ekcBcKo.jpg',\n",
       "        'width': 571,\n",
       "        'height': 807},\n",
       "       {'type': 'z',\n",
       "        'url': 'https://sun1-83.userapi.com/c851424/v851424255/1c89d5/1AZS2pgUdVA.jpg',\n",
       "        'width': 724,\n",
       "        'height': 1024}],\n",
       "      'text': '',\n",
       "      'date': 1569680118,\n",
       "      'post_id': 250182,\n",
       "      'access_key': '9584221f4cf6cac68f'}}],\n",
       "   'post_source': {'type': 'vk'},\n",
       "   'comments': {'count': 21, 'can_post': 1, 'groups_can_post': True},\n",
       "   'likes': {'count': 86, 'user_likes': 0, 'can_like': 1, 'can_publish': 1},\n",
       "   'reposts': {'count': 1, 'user_reposted': 0},\n",
       "   'views': {'count': 7210},\n",
       "   'is_favorite': False},\n",
       "  {'id': 250586,\n",
       "   'from_id': -111587102,\n",
       "   'owner_id': -111587102,\n",
       "   'date': 1569764700,\n",
       "   'marked_as_ads': 0,\n",
       "   'post_type': 'post',\n",
       "   'text': '',\n",
       "   'signer_id': 87675700,\n",
       "   'attachments': [{'type': 'photo',\n",
       "     'photo': {'id': 457288603,\n",
       "      'album_id': -7,\n",
       "      'owner_id': -111587102,\n",
       "      'user_id': 100,\n",
       "      'sizes': [{'type': 'm',\n",
       "        'url': 'https://sun1-26.userapi.com/c853520/v853520971/106e05/l89eKxTjJNM.jpg',\n",
       "        'width': 97,\n",
       "        'height': 130},\n",
       "       {'type': 'o',\n",
       "        'url': 'https://sun1-85.userapi.com/c853520/v853520971/106e0a/5GVic4bBCvM.jpg',\n",
       "        'width': 130,\n",
       "        'height': 173},\n",
       "       {'type': 'p',\n",
       "        'url': 'https://sun1-19.userapi.com/c853520/v853520971/106e0b/vtUQEWEIq3k.jpg',\n",
       "        'width': 200,\n",
       "        'height': 267},\n",
       "       {'type': 'q',\n",
       "        'url': 'https://sun1-14.userapi.com/c853520/v853520971/106e0c/M8QdYVcpsrU.jpg',\n",
       "        'width': 320,\n",
       "        'height': 427},\n",
       "       {'type': 'r',\n",
       "        'url': 'https://sun1-89.userapi.com/c853520/v853520971/106e0d/pauYLdKnrhk.jpg',\n",
       "        'width': 510,\n",
       "        'height': 680},\n",
       "       {'type': 's',\n",
       "        'url': 'https://sun1-20.userapi.com/c853520/v853520971/106e04/jLUdelxSu2E.jpg',\n",
       "        'width': 56,\n",
       "        'height': 75},\n",
       "       {'type': 'w',\n",
       "        'url': 'https://sun1-93.userapi.com/c853520/v853520971/106e09/OPZvzyDkbHk.jpg',\n",
       "        'width': 1000,\n",
       "        'height': 1333},\n",
       "       {'type': 'x',\n",
       "        'url': 'https://sun1-91.userapi.com/c853520/v853520971/106e06/JyMVg51lcSo.jpg',\n",
       "        'width': 453,\n",
       "        'height': 604},\n",
       "       {'type': 'y',\n",
       "        'url': 'https://sun1-30.userapi.com/c853520/v853520971/106e07/dL6zxbaQlY0.jpg',\n",
       "        'width': 605,\n",
       "        'height': 807},\n",
       "       {'type': 'z',\n",
       "        'url': 'https://sun1-27.userapi.com/c853520/v853520971/106e08/Y3_0OWmnJMc.jpg',\n",
       "        'width': 810,\n",
       "        'height': 1080}],\n",
       "      'text': '',\n",
       "      'date': 1569683337,\n",
       "      'lat': 59.924837,\n",
       "      'long': 30.360425,\n",
       "      'post_id': 250208,\n",
       "      'access_key': 'a24cec2b7bb8e72a4d'}}],\n",
       "   'post_source': {'type': 'vk'},\n",
       "   'comments': {'count': 28, 'can_post': 1, 'groups_can_post': True},\n",
       "   'likes': {'count': 210, 'user_likes': 0, 'can_like': 1, 'can_publish': 1},\n",
       "   'reposts': {'count': 1, 'user_reposted': 0},\n",
       "   'views': {'count': 12004},\n",
       "   'is_favorite': False}]}"
      ]
     },
     "execution_count": 2,
     "metadata": {},
     "output_type": "execute_result"
    }
   ],
   "source": [
    "vk.wall.get(domain=\"futureisnow\", count=2)"
   ]
  },
  {
   "cell_type": "markdown",
   "metadata": {},
   "source": [
    "С помощью метода `groups.getById` можно получить информацию о сообществе, в том числе его id."
   ]
  },
  {
   "cell_type": "code",
   "execution_count": 3,
   "metadata": {},
   "outputs": [
    {
     "data": {
      "text/plain": [
       "[{'id': 111587102,\n",
       "  'name': 'киберпанк, который мы заслужили',\n",
       "  'screen_name': 'futureisnow',\n",
       "  'is_closed': 0,\n",
       "  'type': 'page',\n",
       "  'is_admin': 0,\n",
       "  'is_member': 0,\n",
       "  'is_advertiser': 0,\n",
       "  'photo_50': 'https://sun1-29.userapi.com/c845124/v845124938/4b879/-EzOFg-vjTg.jpg?ava=1',\n",
       "  'photo_100': 'https://sun1-14.userapi.com/c845124/v845124938/4b878/Lr9NW4jLxOU.jpg?ava=1',\n",
       "  'photo_200': 'https://sun1-85.userapi.com/c845124/v845124938/4b877/dqfgJ42Ir5E.jpg?ava=1'}]"
      ]
     },
     "execution_count": 3,
     "metadata": {},
     "output_type": "execute_result"
    }
   ],
   "source": [
    "vk.groups.getById(group_ids=\"futureisnow\")"
   ]
  },
  {
   "cell_type": "markdown",
   "metadata": {},
   "source": [
    "Скачайте информацию о последних ста записях в следующих пабликах: https://vk.com/futureisnow, https://vk.com/eternalclassic, https://vk.com/ukrlit_memes, https://vk.com/ukrainer_net, https://vk.com/amanzohel, https://vk.com/barg_kurumk_culture"
   ]
  },
  {
   "cell_type": "code",
   "execution_count": 4,
   "metadata": {},
   "outputs": [],
   "source": [
    "# список domain'ов, чтобы вам не копировать их самими :)\n",
    "publics = [\"futureisnow\",\n",
    "           \"eternalclassic\",\n",
    "           \"ukrlit_memes\",\n",
    "           \"ukrainer_net\",\n",
    "           \"amanzohel\",\n",
    "           \"barg_kurumk_culture\"]"
   ]
  },
  {
   "cell_type": "code",
   "execution_count": 5,
   "metadata": {},
   "outputs": [],
   "source": [
    "items = {} # ключи — это паблики\n",
    "posts = [] # все скачанные посты\n",
    "\n",
    "for i in publics:\n",
    "    name = str(i)\n",
    "    data = vk.wall.get(domain=name, count=100)\n",
    "    data = data['items']\n",
    "    posts += data\n",
    "    items[name] = data\n",
    "    \n",
    "#print(items)"
   ]
  },
  {
   "cell_type": "markdown",
   "metadata": {},
   "source": [
    "Найдите в документации (https://vk.com/dev/wall) метод для получения комментариев и получите первые сто комментариев каждого поста из выборки для каждого паблика."
   ]
  },
  {
   "cell_type": "code",
   "execution_count": 6,
   "metadata": {},
   "outputs": [],
   "source": [
    "corpora = {}\n",
    "\n",
    "futureisnow = []  # все комментарии к 100 постам паблика futureisnow\n",
    "eternalclassic = []  # все комментарии к 100 постам паблика eternalclassic\n",
    "ukrlit_memes = []  # все комментарии к 100 постам паблика ukrlit_memes\n",
    "ukrainer_net = []  # все комментарии к 100 постам паблика ukrainer_net\n",
    "amanzohel = []  # все комментарии к 100 постам паблика amanzohel\n",
    "barg_kurumk_culture = []  # все комментарии к 100 постам паблика barg_kurumk_culture\n",
    "\n",
    "for post in posts:\n",
    "    post_id = post['id']\n",
    "    owner_id = post['owner_id']\n",
    "    comments = vk.wall.getComments(owner_id=owner_id, \n",
    "                                   post_id=post_id, count=100)\n",
    "    comments = comments['items']\n",
    "    for comment in comments:\n",
    "        if 'deleted' in comment:\n",
    "                continue\n",
    "        if len(comment['text']) > 10:\n",
    "            text = comment['text']\n",
    "        if owner_id == -111587102:\n",
    "            futureisnow.append(text) \n",
    "        if owner_id == -129440544:\n",
    "            eternalclassic.append(text) \n",
    "        if owner_id == -131348832:\n",
    "            ukrlit_memes.append(text)\n",
    "        if owner_id == -5164516:\n",
    "            ukrainer_net.append(text)\n",
    "        if owner_id == -66347916:\n",
    "            amanzohel.append(text)\n",
    "        if owner_id == -95189895:\n",
    "            barg_kurumk_culture.append(text)\n",
    "        \n",
    "com = []\n",
    "com.append(futureisnow)\n",
    "com.append(eternalclassic)\n",
    "com.append(ukrlit_memes)\n",
    "com.append(ukrainer_net)\n",
    "com.append(amanzohel)\n",
    "com.append(barg_kurumk_culture)\n",
    "\n",
    "corpora = dict(zip(publics, com))\n",
    "\n",
    "#print(corpora)    "
   ]
  },
  {
   "cell_type": "markdown",
   "metadata": {},
   "source": [
    "**Задание со звездочкой:** вы могли заметить, что если обращаться к каждому посту отдельно, то все занимает довольно продолжительное время (около пяти минут). Найдите в документации vk_api способ сделать это быстрее."
   ]
  },
  {
   "cell_type": "code",
   "execution_count": 7,
   "metadata": {},
   "outputs": [],
   "source": [
    "#corpora = {}\n"
   ]
  },
  {
   "cell_type": "markdown",
   "metadata": {},
   "source": [
    "## Тренировка моделей"
   ]
  },
  {
   "cell_type": "markdown",
   "metadata": {},
   "source": [
    "В наших комментариях встречались русский, украинский, английский и бурятский."
   ]
  },
  {
   "cell_type": "code",
   "execution_count": 8,
   "metadata": {},
   "outputs": [],
   "source": [
    "langs = {'ru', 'uk', 'en', 'bxr'}"
   ]
  },
  {
   "cell_type": "code",
   "execution_count": 9,
   "metadata": {},
   "outputs": [],
   "source": [
    "from collections import Counter\n",
    "\n",
    "import nltk\n",
    "import wikipedia"
   ]
  },
  {
   "cell_type": "code",
   "execution_count": 48,
   "metadata": {},
   "outputs": [
    {
     "name": "stderr",
     "output_type": "stream",
     "text": [
      "[nltk_data] Downloading package punkt to\n",
      "[nltk_data]     C:\\Users\\vital\\AppData\\Roaming\\nltk_data...\n",
      "[nltk_data]   Unzipping tokenizers\\punkt.zip.\n"
     ]
    },
    {
     "data": {
      "text/plain": [
       "True"
      ]
     },
     "execution_count": 48,
     "metadata": {},
     "output_type": "execute_result"
    }
   ],
   "source": [
    "nltk.download(\"punkt\")"
   ]
  },
  {
   "cell_type": "markdown",
   "metadata": {},
   "source": [
    "Скачайте документы, на которых вы будете обучать свои модели. Для наших целей хорошо иметь для каждого языка корпус размером около 50 статей."
   ]
  },
  {
   "cell_type": "code",
   "execution_count": 10,
   "metadata": {},
   "outputs": [],
   "source": [
    "# найдите нужный код, не вставляйте лишний (!)\n",
    "def get_texts_for_lang(lang, n=10):\n",
    "    wiki_content = []\n",
    "    wikipedia.set_lang(lang)\n",
    "    pages = wikipedia.random(n)\n",
    "    for page_name in pages:\n",
    "        try:\n",
    "            page = wikipedia.page(page_name)\n",
    "            wiki_content.append(\"%s\\n%s\" % (page.title, page.content.replace('=', '')))\n",
    "        except wikipedia.exceptions.WikipediaException:\n",
    "            print(\"Skip %s\" % page_name)\n",
    "    return wiki_content"
   ]
  },
  {
   "cell_type": "code",
   "execution_count": 11,
   "metadata": {},
   "outputs": [
    {
     "name": "stderr",
     "output_type": "stream",
     "text": [
      "c:\\users\\vital\\appdata\\local\\programs\\python\\python37-32\\lib\\site-packages\\wikipedia\\wikipedia.py:389: UserWarning: No parser was explicitly specified, so I'm using the best available HTML parser for this system (\"html.parser\"). This usually isn't a problem, but if you run this code on another system, or in a different virtual environment, it may use a different parser and behave differently.\n",
      "\n",
      "The code that caused this warning is on line 389 of the file c:\\users\\vital\\appdata\\local\\programs\\python\\python37-32\\lib\\site-packages\\wikipedia\\wikipedia.py. To get rid of this warning, pass the additional argument 'features=\"html.parser\"' to the BeautifulSoup constructor.\n",
      "\n",
      "  lis = BeautifulSoup(html).find_all('li')\n"
     ]
    },
    {
     "name": "stdout",
     "output_type": "stream",
     "text": [
      "Skip Тэнгэри (тодоруулга)\n",
      "bxr 49\n",
      "Skip Mount Despair\n",
      "Skip Dakshini\n",
      "en 48\n",
      "Skip Симфонія № 8\n",
      "Skip Блендер (значення)\n",
      "Skip Тени (значення)\n",
      "uk 47\n",
      "Skip Шапиро, Владимир\n",
      "Skip Битва при Ноле\n",
      "Skip Капорали\n",
      "Skip Сквайр (значения)\n",
      "Skip Алабота\n",
      "Skip Колос (платформа)\n",
      "Skip Аддоницио\n",
      "ru 43\n"
     ]
    }
   ],
   "source": [
    "wiki_texts = {}\n",
    "for lang in langs:\n",
    "    wiki_texts[lang] = get_texts_for_lang(lang, 50)\n",
    "    print(lang, len(wiki_texts[lang]))"
   ]
  },
  {
   "cell_type": "markdown",
   "metadata": {},
   "source": [
    "Сделайте определялку на частотах слов."
   ]
  },
  {
   "cell_type": "code",
   "execution_count": 12,
   "metadata": {},
   "outputs": [],
   "source": [
    "# найдите нужный код, не вставляйте лишний (!)\n",
    "\n",
    "def collect_freqlist(wiki_pages, max_len=100):\n",
    "    freqlist = Counter()\n",
    "    # не забудем про токенизацию - nltk.word_tokenize\n",
    "    for text in wiki_pages:\n",
    "        for word in nltk.word_tokenize(text.lower()):\n",
    "            if word.isalpha():\n",
    "                freqlist[word] += 1\n",
    "    return dict(freqlist.most_common(max_len))"
   ]
  },
  {
   "cell_type": "code",
   "execution_count": 13,
   "metadata": {},
   "outputs": [],
   "source": [
    "freq_lists = {}\n",
    "for lang in langs:\n",
    "    freq_lists[lang] = collect_freqlist(wiki_texts[lang])"
   ]
  },
  {
   "cell_type": "code",
   "execution_count": 14,
   "metadata": {},
   "outputs": [],
   "source": [
    "def simple_lang_detect(freq_lists, text):\n",
    "    counts = Counter()\n",
    "    for lang, freq_list in freq_lists.items():\n",
    "        freq_list = Counter(freq_list)\n",
    "        for word in nltk.word_tokenize(text):\n",
    "            counts[lang] += int(freq_list[word] > 0)\n",
    "    return counts.most_common()"
   ]
  },
  {
   "cell_type": "markdown",
   "metadata": {},
   "source": [
    "Сделайте определялку на символьных энграммах."
   ]
  },
  {
   "cell_type": "code",
   "execution_count": 15,
   "metadata": {},
   "outputs": [
    {
     "name": "stdout",
     "output_type": "stream",
     "text": [
      "\n",
      "\n",
      "\n",
      "1\n",
      "\n",
      "13\n",
      "\n",
      "13 \n",
      "\n",
      "13 а\n",
      "\n",
      "19\n",
      "\n",
      "195\n",
      "\n",
      "1955\n",
      "\n",
      "1956\n",
      "\n",
      "1957\n",
      "\n",
      "1958\n",
      "\n",
      "196\n",
      "\n",
      "1965\n",
      "\n",
      "1969\n",
      "\n",
      "197\n",
      "\n",
      "1971\n",
      "\n",
      "1975\n",
      "\n",
      "1976\n",
      "\n",
      "1977\n",
      "\n",
      "1978\n",
      "\n",
      "198\n",
      "\n",
      "1980\n",
      "\n",
      "1981\n",
      "\n",
      "1982\n",
      "\n",
      "1983\n",
      "\n",
      "1984\n",
      "\n",
      "1985\n",
      "\n",
      "1986\n",
      "\n",
      "1987\n",
      "\n",
      "1988\n",
      "\n",
      "1989\n",
      "\n",
      "199\n",
      "\n",
      "1990\n",
      "\n",
      "1991\n",
      "\n",
      "1992\n",
      "\n",
      "1993\n",
      "\n",
      "1994\n",
      "\n",
      "1995\n",
      "\n",
      "1996\n",
      "\n",
      "1997\n",
      "\n",
      "1998\n",
      "\n",
      "1999\n",
      "\n",
      "2\n",
      "\n",
      "2 \n",
      "\n",
      "2 г\n",
      "\n",
      "2 го\n",
      "\n",
      "2 к\n",
      "\n",
      "2 кл\n",
      "\n",
      "2 т\n",
      "\n",
      "2 тр\n",
      "\n",
      "2 ф\n",
      "\n",
      "2 фа\n",
      "\n",
      "2 фл\n",
      "\n",
      "20\n",
      "\n",
      "200\n",
      "\n",
      "2000\n",
      "\n",
      "2001\n",
      "\n",
      "2002\n",
      "\n",
      "2003\n",
      "\n",
      "2004\n",
      "\n",
      "2005\n",
      "\n",
      "2006\n",
      "\n",
      "2007\n",
      "\n",
      "2008\n",
      "\n",
      "201\n",
      "\n",
      "2010\n",
      "\n",
      "2011\n",
      "\n",
      "2012\n",
      "\n",
      "2013\n",
      "\n",
      "2014\n",
      "\n",
      "2016\n",
      "\n",
      "21\n",
      "\n",
      "21 \n",
      "\n",
      "21 н\n",
      "\n",
      "27\n",
      "\n",
      "27 \n",
      "\n",
      "27 с\n",
      "\n",
      "3\n",
      "\n",
      "3 \n",
      "\n",
      "3 т\n",
      "\n",
      "3 тр\n",
      "\n",
      "30\n",
      "\n",
      "30 \n",
      "\n",
      "30 с\n",
      "\n",
      "4\n",
      "\n",
      "4 \n",
      "\n",
      "4 в\n",
      "\n",
      "4 ва\n",
      "\n",
      "4 н\n",
      "\n",
      "4 но\n",
      "\n",
      "5\n",
      "\n",
      "5 \n",
      "\n",
      "5 д\n",
      "\n",
      "5 де\n",
      "\n",
      "a\n",
      "\n",
      "a \n",
      "\n",
      "a m\n",
      "\n",
      "a me\n",
      "\n",
      "ad\n",
      "\n",
      "ada\n"
     ]
    }
   ],
   "source": [
    "# найдите нужный код, не вставляйте лишний (!)\n",
    "\n",
    "from sklearn import feature_extraction\n",
    "\n",
    "vectorizer = feature_extraction.text.TfidfVectorizer(ngram_range=(1, 5), analyzer='char')\n",
    "vectorizer.fit(wiki_texts['ru'])\n",
    "for item in vectorizer.get_feature_names()[:100]:\n",
    "    print(item)"
   ]
  },
  {
   "cell_type": "code",
   "execution_count": 16,
   "metadata": {},
   "outputs": [
    {
     "name": "stdout",
     "output_type": "stream",
     "text": [
      "Populating the interactive namespace from numpy and matplotlib\n"
     ]
    },
    {
     "name": "stderr",
     "output_type": "stream",
     "text": [
      "c:\\users\\vital\\appdata\\local\\programs\\python\\python37-32\\lib\\site-packages\\IPython\\core\\magics\\pylab.py:160: UserWarning: pylab import has clobbered these variables: ['text']\n",
      "`%matplotlib` prevents importing * from pylab and numpy\n",
      "  \"\\n`%matplotlib` prevents importing * from pylab and numpy\"\n"
     ]
    }
   ],
   "source": [
    "from sklearn import pipeline\n",
    "from sklearn import naive_bayes\n",
    "import numpy as np\n",
    "\n",
    "%pylab inline\n",
    "import matplotlib.pyplot as plt\n",
    "import seaborn as sns"
   ]
  },
  {
   "cell_type": "code",
   "execution_count": 17,
   "metadata": {},
   "outputs": [],
   "source": [
    "clf = pipeline.Pipeline([\n",
    "    ('vctr', feature_extraction.text.TfidfVectorizer(ngram_range=(1, 2), analyzer='char')),\n",
    "    ('clf', naive_bayes.MultinomialNB())\n",
    "])"
   ]
  },
  {
   "cell_type": "code",
   "execution_count": 18,
   "metadata": {},
   "outputs": [],
   "source": [
    "all_texts = []\n",
    "lang_indices = []\n",
    "for lang in wiki_texts:\n",
    "    all_texts.extend(wiki_texts[lang])\n",
    "    lang_indices.extend([lang]*len(wiki_texts[lang]))"
   ]
  },
  {
   "cell_type": "code",
   "execution_count": 19,
   "metadata": {},
   "outputs": [
    {
     "data": {
      "text/plain": [
       "Pipeline(memory=None,\n",
       "         steps=[('vctr',\n",
       "                 TfidfVectorizer(analyzer='char', binary=False,\n",
       "                                 decode_error='strict',\n",
       "                                 dtype=<class 'numpy.float64'>,\n",
       "                                 encoding='utf-8', input='content',\n",
       "                                 lowercase=True, max_df=1.0, max_features=None,\n",
       "                                 min_df=1, ngram_range=(1, 2), norm='l2',\n",
       "                                 preprocessor=None, smooth_idf=True,\n",
       "                                 stop_words=None, strip_accents=None,\n",
       "                                 sublinear_tf=False,\n",
       "                                 token_pattern='(?u)\\\\b\\\\w\\\\w+\\\\b',\n",
       "                                 tokenizer=None, use_idf=True,\n",
       "                                 vocabulary=None)),\n",
       "                ('clf',\n",
       "                 MultinomialNB(alpha=1.0, class_prior=None, fit_prior=True))],\n",
       "         verbose=False)"
      ]
     },
     "execution_count": 19,
     "metadata": {},
     "output_type": "execute_result"
    }
   ],
   "source": [
    "# Обучаем классификатор\n",
    "clf.fit(np.array(all_texts), np.array(lang_indices))"
   ]
  },
  {
   "cell_type": "markdown",
   "metadata": {},
   "source": [
    "# Определение языка"
   ]
  },
  {
   "cell_type": "markdown",
   "metadata": {},
   "source": [
    "Определите язык каждого комментария в каждом паблике с помощью определялки на частотах слов и покажите доли языков среди комментариев для каждого паблика."
   ]
  },
  {
   "cell_type": "code",
   "execution_count": 20,
   "metadata": {},
   "outputs": [],
   "source": [
    "from sklearn.metrics import accuracy_score\n",
    "import matplotlib.pyplot as plt"
   ]
  },
  {
   "cell_type": "code",
   "execution_count": 21,
   "metadata": {},
   "outputs": [
    {
     "name": "stdout",
     "output_type": "stream",
     "text": [
      "Доли языков среди комментариев для паблика futureisnow\n",
      "{'NA': 594, 'ru': 559, 'en': 17, 'uk': 298, 'bxr': 82}\n"
     ]
    },
    {
     "data": {
      "image/png": "[encoded data removed]",
      "text/plain": [
       "<Figure size 432x288 with 1 Axes>"
      ]
     },
     "metadata": {
      "needs_background": "light"
     },
     "output_type": "display_data"
    },
    {
     "name": "stdout",
     "output_type": "stream",
     "text": [
      "Доли языков среди комментариев для паблика eternalclassic\n",
      "{'NA': 585, 'ru': 0, 'en': 839, 'uk': 0, 'bxr': 36}\n"
     ]
    },
    {
     "data": {
      "image/png": "[encoded data removed]",
      "text/plain": [
       "<Figure size 432x288 with 1 Axes>"
      ]
     },
     "metadata": {
      "needs_background": "light"
     },
     "output_type": "display_data"
    },
    {
     "name": "stdout",
     "output_type": "stream",
     "text": [
      "Доли языков среди комментариев для паблика ukrlit_memes\n",
      "{'NA': 134, 'ru': 36, 'en': 4, 'uk': 153, 'bxr': 7}\n"
     ]
    },
    {
     "data": {
      "image/png": "[encoded data removed]",
      "text/plain": [
       "<Figure size 432x288 with 1 Axes>"
      ]
     },
     "metadata": {
      "needs_background": "light"
     },
     "output_type": "display_data"
    },
    {
     "name": "stdout",
     "output_type": "stream",
     "text": [
      "Доли языков среди комментариев для паблика ukrainer_net\n",
      "{'NA': 99, 'ru': 15, 'en': 0, 'uk': 122, 'bxr': 6}\n"
     ]
    },
    {
     "data": {
      "image/png": "[encoded data removed]",
      "text/plain": [
       "<Figure size 432x288 with 1 Axes>"
      ]
     },
     "metadata": {
      "needs_background": "light"
     },
     "output_type": "display_data"
    },
    {
     "name": "stdout",
     "output_type": "stream",
     "text": [
      "Доли языков среди комментариев для паблика amanzohel\n",
      "{'NA': 396, 'ru': 14, 'en': 0, 'uk': 16, 'bxr': 20}\n"
     ]
    },
    {
     "data": {
      "image/png": "[encoded data removed]",
      "text/plain": [
       "<Figure size 432x288 with 1 Axes>"
      ]
     },
     "metadata": {
      "needs_background": "light"
     },
     "output_type": "display_data"
    },
    {
     "name": "stdout",
     "output_type": "stream",
     "text": [
      "Доли языков среди комментариев для паблика barg_kurumk_culture\n",
      "{'NA': 136, 'ru': 74, 'en': 0, 'uk': 34, 'bxr': 37}\n"
     ]
    },
    {
     "data": {
      "image/png": "[encoded data removed]",
      "text/plain": [
       "<Figure size 432x288 with 1 Axes>"
      ]
     },
     "metadata": {
      "needs_background": "light"
     },
     "output_type": "display_data"
    }
   ],
   "source": [
    "lang_detects_freqs = {}\n",
    "\n",
    "for key, value in corpora.items():\n",
    "    public = key\n",
    "    ru = 0\n",
    "    en = 0\n",
    "    bxr = 0\n",
    "    uk = 0\n",
    "    NA = 0 \n",
    "    for i in value:\n",
    "       # print(i)\n",
    "        text = str(i)\n",
    "        lang_detects_freqs = dict(simple_lang_detect(freq_lists, text))\n",
    "       # print(lang_detects_freqs)\n",
    "        top = {c: lang_detects_freqs[c] for c in \n",
    "               lang_detects_freqs if lang_detects_freqs[c] > 0 and len(c) > 0}\n",
    "        top = (sorted(top.items(), key=lambda x: x[1], reverse=True))[:1]\n",
    "        top = dict(top)\n",
    "        if len(top) == 0:\n",
    "            NA += 1\n",
    "        for key in top.keys():\n",
    "            if key == 'ru':\n",
    "                ru +=1\n",
    "            if key == 'en':\n",
    "                en +=1\n",
    "            if key == 'uk':\n",
    "                uk +=1\n",
    "            if key == 'bxr':\n",
    "                bxr +=1\n",
    "    \n",
    "    languages = ['NA', 'ru', 'en', 'uk', 'bxr']\n",
    "    nums = [NA, ru, en, uk, bxr]\n",
    "    lang_detects_freqs = dict(zip(languages, nums))\n",
    "    print('Доли языков среди комментариев для паблика', public)\n",
    "    print(lang_detects_freqs)\n",
    "    Y = [c[1] for c in sorted(\n",
    "        lang_detects_freqs.items(), key=lambda x: x[0], reverse=False\n",
    "        )\n",
    "        ]\n",
    "    X = sorted([l for l in lang_detects_freqs])\n",
    "    plt.bar(X, Y, color='aqua')\n",
    "    plt.show()"
   ]
  },
  {
   "cell_type": "markdown",
   "metadata": {},
   "source": [
    "Сделайте то же самое для определителя на символьных энграммах."
   ]
  },
  {
   "cell_type": "code",
   "execution_count": 22,
   "metadata": {},
   "outputs": [
    {
     "name": "stdout",
     "output_type": "stream",
     "text": [
      "Доли языков среди комментариев для паблика futureisnow\n",
      "{'bxr': 46, 'en': 62, 'ru': 1248, 'uk': 194}\n"
     ]
    },
    {
     "data": {
      "image/png": "[encoded data removed]",
      "text/plain": [
       "<Figure size 432x288 with 1 Axes>"
      ]
     },
     "metadata": {
      "needs_background": "light"
     },
     "output_type": "display_data"
    },
    {
     "name": "stdout",
     "output_type": "stream",
     "text": [
      "Доли языков среди комментариев для паблика eternalclassic\n",
      "{'bxr': 0, 'en': 1456, 'ru': 0, 'uk': 4}\n"
     ]
    },
    {
     "data": {
      "image/png": "[encoded data removed]",
      "text/plain": [
       "<Figure size 432x288 with 1 Axes>"
      ]
     },
     "metadata": {
      "needs_background": "light"
     },
     "output_type": "display_data"
    },
    {
     "name": "stdout",
     "output_type": "stream",
     "text": [
      "Доли языков среди комментариев для паблика ukrlit_memes\n",
      "{'bxr': 10, 'en': 8, 'ru': 86, 'uk': 230}\n"
     ]
    },
    {
     "data": {
      "image/png": "[encoded data removed]",
      "text/plain": [
       "<Figure size 432x288 with 1 Axes>"
      ]
     },
     "metadata": {
      "needs_background": "light"
     },
     "output_type": "display_data"
    },
    {
     "name": "stdout",
     "output_type": "stream",
     "text": [
      "Доли языков среди комментариев для паблика ukrainer_net\n",
      "{'bxr': 15, 'en': 7, 'ru': 43, 'uk': 177}\n"
     ]
    },
    {
     "data": {
      "image/png": "[encoded data removed]",
      "text/plain": [
       "<Figure size 432x288 with 1 Axes>"
      ]
     },
     "metadata": {
      "needs_background": "light"
     },
     "output_type": "display_data"
    },
    {
     "name": "stdout",
     "output_type": "stream",
     "text": [
      "Доли языков среди комментариев для паблика amanzohel\n",
      "{'bxr': 390, 'en': 0, 'ru': 48, 'uk': 8}\n"
     ]
    },
    {
     "data": {
      "image/png": "[encoded data removed]",
      "text/plain": [
       "<Figure size 432x288 with 1 Axes>"
      ]
     },
     "metadata": {
      "needs_background": "light"
     },
     "output_type": "display_data"
    },
    {
     "name": "stdout",
     "output_type": "stream",
     "text": [
      "Доли языков среди комментариев для паблика barg_kurumk_culture\n",
      "{'bxr': 108, 'en': 1, 'ru': 147, 'uk': 25}\n"
     ]
    },
    {
     "data": {
      "image/png": "[encoded data removed]",
      "text/plain": [
       "<Figure size 432x288 with 1 Axes>"
      ]
     },
     "metadata": {
      "needs_background": "light"
     },
     "output_type": "display_data"
    }
   ],
   "source": [
    "lang_detects_ngrams = {}\n",
    "\n",
    "for key, value in corpora.items():\n",
    "    public = key\n",
    "    texts = value\n",
    "    results = clf.predict(texts)\n",
    "    ru = 0\n",
    "    en = 0\n",
    "    uk = 0\n",
    "    bxr = 0\n",
    "    for i in results:\n",
    "        if i == 'ru':\n",
    "            ru += 1\n",
    "        if i == 'en':\n",
    "            en += 1\n",
    "        if i == 'uk':\n",
    "            uk  += 1\n",
    "        if i == 'bxr':\n",
    "            bxr += 1\n",
    "            \n",
    "    lang_detects_ngrams['bxr'] = bxr\n",
    "    lang_detects_ngrams['en'] = en\n",
    "    lang_detects_ngrams['ru'] = ru\n",
    "    lang_detects_ngrams['uk'] = uk\n",
    "     \n",
    "    print('Доли языков среди комментариев для паблика', key)\n",
    "    print(lang_detects_ngrams)\n",
    "    Y = [c[1] for c in sorted(\n",
    "        lang_detects_ngrams.items(), key=lambda x: x[0], reverse=False\n",
    "        )\n",
    "        ]\n",
    "    X = sorted([l for l in lang_detects_ngrams])\n",
    "    plt.bar(X, Y, color='lightpink')\n",
    "    plt.show()"
   ]
  },
  {
   "cell_type": "markdown",
   "metadata": {},
   "source": [
    "Обсудите работу каждого из классификаторов, обсудите ошибки, объясните разницу в результатах."
   ]
  },
  {
   "cell_type": "markdown",
   "metadata": {},
   "source": [
    "Классификатор на частотах слов часто не определяет язык комменатрия (при условии, что его длина больше 10 символов), для каждого паблика доля NA составляет большой процент от общего числа, но можно попробовать определить самый популярный язык комменатриев:\n",
    "\n",
    "для futureisnow -- русский;\n",
    "\n",
    "для eternalclassic -- английсикй;\n",
    "\n",
    "для ukrlit_memes -- русский и украинский;\n",
    "\n",
    "для ukrainer_net -- украинский;\n",
    "\n",
    "для amanzohel -- русский;\n",
    "\n",
    "для barg_kurumk_culture -- русский.\n",
    "\n",
    "Ошибки для последних двух пабликов - определен русский язык, вместо предполагаемого бурятского. Вероятно, классификатор не смог распознать комменатрии на бурятском, и в данном распределении они относятся к группе NA.\n",
    "\n",
    "Классификатор на н-граммах показывает более приближенный к реальности результат по определению самого популярного языка комментариев:\n",
    "\n",
    "для futureisnow -- русский;\n",
    "\n",
    "для eternalclassic -- английсикй;\n",
    "\n",
    "для ukrlit_memes -- украинский;\n",
    "\n",
    "для ukrainer_net -- украинский;\n",
    "\n",
    "для amanzohel -- бурятский;\n",
    "\n",
    "для barg_kurumk_culture -- русский (бурятский на втором месте).\n",
    "\n",
    "Разница в результатах может объясняться тем, что определение языка по последовательности символов является более чувствительным  методом для разных типов текстов. Использования частотного словаря иногда бывает недостаточно, например, как показывают результаты, даже в длинном коммментарии необязательно есть топ-слова языка (может состоять из имени собственного + не частотной экспрессивно-оценочной лексики)."
   ]
  }
 ],
 "metadata": {
  "kernelspec": {
   "display_name": "Python 3",
   "language": "python",
   "name": "python3"
  },
  "language_info": {
   "codemirror_mode": {
    "name": "ipython",
    "version": 3
   },
   "file_extension": ".py",
   "mimetype": "text/x-python",
   "name": "python",
   "nbconvert_exporter": "python",
   "pygments_lexer": "ipython3",
   "version": "3.7.0"
  }
 },
 "nbformat": 4,
 "nbformat_minor": 2
}
